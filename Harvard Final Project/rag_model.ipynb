{
 "cells": [
  {
   "cell_type": "code",
   "execution_count": 1,
   "id": "1e3ca419-3279-425e-804b-79630f1285ed",
   "metadata": {},
   "outputs": [
    {
     "name": "stderr",
     "output_type": "stream",
     "text": [
      "C:\\Users\\evanq\\miniconda3\\envs\\whisper\\lib\\site-packages\\sentence_transformers\\cross_encoder\\CrossEncoder.py:11: TqdmExperimentalWarning: Using `tqdm.autonotebook.tqdm` in notebook mode. Use `tqdm.tqdm` instead to force console mode (e.g. in jupyter console)\n",
      "  from tqdm.autonotebook import tqdm, trange\n"
     ]
    },
    {
     "name": "stdin",
     "output_type": "stream",
     "text": [
      "Choose MistralAI or OpenAI:  a\n"
     ]
    },
    {
     "name": "stdout",
     "output_type": "stream",
     "text": [
      "Loaded OpenAI's gpt-4o-mini model.\n"
     ]
    }
   ],
   "source": [
    "import os, json\n",
    "import pandas as pd\n",
    "\n",
    "from langchain_chroma import Chroma\n",
    "from langchain.text_splitter import RecursiveCharacterTextSplitter\n",
    "from langchain_community.document_loaders import TextLoader\n",
    "from langchain_huggingface import HuggingFaceEmbeddings\n",
    "from langchain.chains import RetrievalQA\n",
    "from langchain_core.prompts import PromptTemplate\n",
    "from langchain_core.output_parsers import StrOutputParser\n",
    "\n",
    "embedding_function = HuggingFaceEmbeddings(model_name=\"C:/Users/evanq/Documents/EAS_Work/CTIA/git/main/models/thenlper_gte-large/\")\n",
    "text_splitter = RecursiveCharacterTextSplitter(chunk_size=500, chunk_overlap=50)\n",
    "\n",
    "from dotenv import load_dotenv\n",
    "load_dotenv(dotenv_path='.env') \n",
    "\n",
    "\n",
    "model = input(\"Choose MistralAI or OpenAI: \")\n",
    "# For Mistral AI\n",
    "if model.lower() == \"m\":\n",
    "    from langchain_mistralai import ChatMistralAI\n",
    "    llm = ChatMistralAI(model='open-mixtral-8x7b', \n",
    "                        temperature=0)\n",
    "    print(\"Loaded Mistral AI's open-mixtral-8x7b model.\")\n",
    "\n",
    "# For Open AI\n",
    "else:\n",
    "    import openai\n",
    "    from langchain_openai import ChatOpenAI   \n",
    "    llm = ChatOpenAI(model=\"gpt-4o-mini\",\n",
    "                     temperature=0)\n",
    "    print(\"Loaded OpenAI's gpt-4o-mini model.\")\n",
    "\n",
    "MARKET_LIST = [\"WHEAT\", \"CORN\", \"OATS\", \"SOYBEANS\", \"SOYBEAN OIL\", \"CRUDE OIL, LIGHT SWEET\", \"LEAN HOGS\", \"LIVE CATTLE\", \"FEEDER CATTLE\"]\n",
    "\n",
    "if not os.path.exists(\"data\"):\n",
    "    os.makedirs(\"data\")\n",
    "\n",
    "if not os.path.exists(\"vectors_db\"):\n",
    "    os.makedirs(\"vectors_db\")"
   ]
  },
  {
   "cell_type": "code",
   "execution_count": 2,
   "id": "09809727-7034-4bd8-8ebe-8950d297771e",
   "metadata": {},
   "outputs": [],
   "source": [
    "query = \"Is soybean bullish right now?\"\n",
    "file_path = \"../COT/Commodities Futures/c_year.xlsx\""
   ]
  },
  {
   "cell_type": "code",
   "execution_count": 3,
   "id": "518c0c9a-6eec-4543-a790-1ffbebc6ae01",
   "metadata": {},
   "outputs": [],
   "source": [
    "def main(query):\n",
    "    response = get_response(query)\n",
    "    print(response)\n",
    "\n",
    "def get_data(file_path, query):\n",
    "    market = routing_agent(query)\n",
    "    if os.path.exists(f\"vectors_db/{market}\"):\n",
    "        print(f\"{market} vector db already exists!\")\n",
    "        return Chroma(persist_directory=f\"vectors_db/{market}\", embedding_function=embedding_function)\n",
    "\n",
    "    else:\n",
    "        data = pd.read_excel(file_path)\n",
    "        data['Date'] = data['Date'].astype(str)\n",
    "        data[\"Market\"] = data[\"Market\"].str.strip()\n",
    "        \n",
    "        data = data[data[\"Market\"] == market].reset_index(drop=True)\n",
    "        data.to_csv(f\"data/{market}.csv\", index=False)\n",
    "        \n",
    "        json_data = data.to_json()\n",
    "        with open(f\"data/{market}.txt\", \"w\") as f:\n",
    "            f.write(json.dumps(json_data, indent=4))\n",
    "    \n",
    "        loader = TextLoader(f\"data/{market}.txt\")\n",
    "        docs = loader.load()\n",
    "        return Chroma.from_documents(documents=docs,\n",
    "                                     embedding=embedding_function,\n",
    "                                     persist_directory=f\"vectors_db/{market}\")\n",
    "\n",
    "def get_response(query):\n",
    "    db = get_data(file_path, query)\n",
    "    retriever = db.as_retriever(search_type=\"similarity\", search_kwargs={\"k\": 5})\n",
    "    qa_chain = RetrievalQA.from_chain_type(llm=llm,\n",
    "                                           chain_type=\"stuff\",\n",
    "                                           retriever=retriever,\n",
    "                                           return_source_documents=True)\n",
    "    prompt = get_analyst_prompt(query)\n",
    "    llm_response = qa_chain.invoke(prompt)\n",
    "    return llm_response['result']\n",
    "\n",
    "def routing_agent(query):\n",
    "    '''\n",
    "    Classifies the query to determine the market.\n",
    "    '''\n",
    "    prompt = PromptTemplate.from_template(\"\"\"Given the user query below, perform a classification task. Classify which market does the query belongs to.\n",
    "    Do not respond with more than the category name.\n",
    "    \n",
    "    <categories>\n",
    "    {market_list}                                                                        \n",
    "    </categories>    \n",
    "    \n",
    "    <question>\n",
    "    {question}\n",
    "    </question>\n",
    "    \n",
    "    Market:\"\"\")\n",
    "    \n",
    "    chain = prompt | llm | StrOutputParser()\n",
    "    \n",
    "    return chain.invoke({\"question\": query, \"market_list\": MARKET_LIST})\n",
    "\n",
    "def get_analyst_prompt(query):\n",
    "    prompt = f\"\"\"Act as a professional futures market analyst. You are given a JSON data from COT.\n",
    "    The data is arranged in descending order, starting from the latest entry.\n",
    "    You must analyze the trends before answering.\n",
    "\n",
    "    Question: {query}\n",
    "    Answer:\"\"\"\n",
    "    return prompt"
   ]
  },
  {
   "cell_type": "code",
   "execution_count": 4,
   "id": "7c142668-eaeb-43ed-9432-31e5e1260b22",
   "metadata": {},
   "outputs": [
    {
     "name": "stderr",
     "output_type": "stream",
     "text": [
      "Number of requested results 5 is greater than number of elements in index 1, updating n_results = 1\n"
     ]
    },
    {
     "name": "stdout",
     "output_type": "stream",
     "text": [
      "To determine if soybeans are currently bullish, we can analyze the provided COT (Commitments of Traders) data, focusing on key indicators such as open interest, long and short positions, and changes in these metrics.\n",
      "\n",
      "1. **Open Interest**: The latest entry shows an open interest of 1,075,036, which is an increase of 18,388 from the previous week. Rising open interest typically indicates that new money is entering the market, which can be a bullish sign.\n",
      "\n",
      "2. **Long Positions**: The data shows that the total long positions (including producer/merchant long, swap long, and other reportable long) are at 1,028,715, while total short positions are at 995,548. The net long position suggests that there are more long positions than short positions, which is generally a bullish indicator.\n",
      "\n",
      "3. **Change in Positions**: The change in producer/merchant long positions shows a decrease of 4,445, while the change in producer/merchant short positions shows an increase of 12,776. This indicates that while producers are reducing their long positions, there is still a significant amount of short covering happening, which can also be interpreted as a bullish signal.\n",
      "\n",
      "4. **Market Sentiment**: The increase in open interest alongside a higher number of long positions compared to short positions suggests that market sentiment is leaning towards bullishness.\n",
      "\n",
      "In conclusion, based on the analysis of the COT data, the trends indicate that soybeans are currently bullish. The increase in open interest and the net long positions support this bullish outlook.\n"
     ]
    }
   ],
   "source": [
    "main(query)"
   ]
  },
  {
   "cell_type": "code",
   "execution_count": null,
   "id": "742d344a-a444-4908-8d32-00451a66fdf6",
   "metadata": {},
   "outputs": [],
   "source": []
  }
 ],
 "metadata": {
  "kernelspec": {
   "display_name": "Python 3 (ipykernel)",
   "language": "python",
   "name": "python3"
  },
  "language_info": {
   "codemirror_mode": {
    "name": "ipython",
    "version": 3
   },
   "file_extension": ".py",
   "mimetype": "text/x-python",
   "name": "python",
   "nbconvert_exporter": "python",
   "pygments_lexer": "ipython3",
   "version": "3.9.0"
  }
 },
 "nbformat": 4,
 "nbformat_minor": 5
}
